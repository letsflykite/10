{
  "nbformat": 4,
  "nbformat_minor": 0,
  "metadata": {
    "colab": {
      "name": "stumpy.ipynb",
      "provenance": [],
      "collapsed_sections": [],
      "include_colab_link": true
    },
    "kernelspec": {
      "name": "python3",
      "display_name": "Python 3"
    },
    "accelerator": "GPU"
  },
  "cells": [
    {
      "cell_type": "markdown",
      "metadata": {
        "id": "view-in-github",
        "colab_type": "text"
      },
      "source": [
        "<a href=\"https://colab.research.google.com/github/letsflykite/10/blob/master/stumpy.ipynb\" target=\"_parent\"><img src=\"https://colab.research.google.com/assets/colab-badge.svg\" alt=\"Open In Colab\"/></a>"
      ]
    },
    {
      "cell_type": "markdown",
      "metadata": {
        "id": "pwDV6kGRtUgL"
      },
      "source": [
        "# https://tiny.cc/stumpy_colab"
      ]
    },
    {
      "cell_type": "markdown",
      "metadata": {
        "id": "OqR8pgoPPznn"
      },
      "source": [
        "![STUMPY Logo](https://drive.google.com/uc?id=1GNeVbZOLtSEPYpiG-f7YU_7D270hxn9-)\n",
        "\n",
        "STUMPY is a powerful and scalable Python library for modern time series analysis. Click here to find the [API documentation](https://stumpy.readthedocs.io/en/latest/api.html) and [Tutorials](https://stumpy.readthedocs.io/en/latest/tutorials.html)."
      ]
    },
    {
      "cell_type": "markdown",
      "metadata": {
        "id": "9lVgo_ulDsLO"
      },
      "source": [
        "# Configuring The Notebook to Use GPU Acceleration\n",
        "\n",
        "To access the GPUs on Colab, you'll first need to configure the environment by clicking on `Edit` menu at the upper left corner of the notebook and navigate to:\n",
        "\n",
        "`Edit > Notebook settings`\n",
        "\n",
        "Then, in the `Hardware accelerator` dropdown, select `GPU` \n",
        "\n",
        "and click `SAVE`"
      ]
    },
    {
      "cell_type": "markdown",
      "metadata": {
        "id": "3rRRJof6FtAf"
      },
      "source": [
        "# Installing STUMPY\n",
        "\n",
        "Since STUMPY is not installed natively, we'll need to [install it](https://stumpy.readthedocs.io/en/latest/install.html):"
      ]
    },
    {
      "cell_type": "code",
      "metadata": {
        "id": "7896zqUCOkFI",
        "outputId": "9db43688-64ee-438d-9624-c0ef52c2cb6d",
        "colab": {
          "base_uri": "https://localhost:8080/",
          "height": 119
        }
      },
      "source": [
        "!pip install stumpy  # Omit the \"!\" if you are working directly in the command line \n",
        "\n",
        "#Or use the following command to install the development version with the latest features\n",
        "#!pip install git+https://github.com/TDAmeritrade/stumpy.git"
      ],
      "execution_count": null,
      "outputs": [
        {
          "output_type": "stream",
          "text": [
            "Requirement already satisfied: stumpy in /usr/local/lib/python3.6/dist-packages (1.3.1)\n",
            "Requirement already satisfied: numpy>=1.13 in /usr/local/lib/python3.6/dist-packages (from stumpy) (1.18.4)\n",
            "Requirement already satisfied: numba>=0.42.0 in /usr/local/lib/python3.6/dist-packages (from stumpy) (0.48.0)\n",
            "Requirement already satisfied: scipy>=1.2.1 in /usr/local/lib/python3.6/dist-packages (from stumpy) (1.4.1)\n",
            "Requirement already satisfied: llvmlite<0.32.0,>=0.31.0dev0 in /usr/local/lib/python3.6/dist-packages (from numba>=0.42.0->stumpy) (0.31.0)\n",
            "Requirement already satisfied: setuptools in /usr/local/lib/python3.6/dist-packages (from numba>=0.42.0->stumpy) (46.1.3)\n"
          ],
          "name": "stdout"
        }
      ]
    },
    {
      "cell_type": "markdown",
      "metadata": {
        "id": "MxPpuyDkF3H_"
      },
      "source": [
        "# Import Packages"
      ]
    },
    {
      "cell_type": "code",
      "metadata": {
        "id": "CTfrYKQTO-GN"
      },
      "source": [
        "import numpy as np\n",
        "import stumpy\n",
        "import time"
      ],
      "execution_count": null,
      "outputs": []
    },
    {
      "cell_type": "markdown",
      "metadata": {
        "id": "YPkrPxwqF9UX"
      },
      "source": [
        "# Create Random Time Series Data\n",
        "\n",
        "To demonstrate the GPU capabilities, let's create a short and long time series with randomly generated data:"
      ]
    },
    {
      "cell_type": "code",
      "metadata": {
        "id": "NJqN4eTHG3P1"
      },
      "source": [
        "short_ts = np.random.rand(2**12)  # Replace this with your own time series data\n",
        "\n",
        "long_ts = np.random.rand(2**20)  # Replace this with your own time series data"
      ],
      "execution_count": null,
      "outputs": []
    },
    {
      "cell_type": "markdown",
      "metadata": {
        "id": "qrhd69lsGDkL"
      },
      "source": [
        "# Execute STUMPY\n",
        "\n",
        "Let's try running analyzing the shorter time series on a CPU first using `stumpy.stump` [see documentation](https://stumpy.readthedocs.io/en/latest/api.html#stumpy.stump)"
      ]
    },
    {
      "cell_type": "code",
      "metadata": {
        "id": "PPpl2BVTRirR",
        "outputId": "c0f1bcbc-20e5-4370-a9b9-8316b33e2dca",
        "colab": {
          "base_uri": "https://localhost:8080/",
          "height": 34
        }
      },
      "source": [
        "start = time.time()\n",
        "mp = stumpy.stump(short_ts, 50, ignore_trivial=True)\n",
        "print(time.time()-start)"
      ],
      "execution_count": null,
      "outputs": [
        {
          "output_type": "stream",
          "text": [
            "6.371303558349609\n"
          ],
          "name": "stdout"
        }
      ]
    },
    {
      "cell_type": "markdown",
      "metadata": {
        "id": "26270S8xTnoX"
      },
      "source": [
        "Notice that it took around 5 seconds to analyze since most of the time was spent Numba JIT-compiling the function for first use. However, if we re-run it, it should be a lot faster:"
      ]
    },
    {
      "cell_type": "code",
      "metadata": {
        "id": "6bCDhXjvTnFV",
        "outputId": "88ae0561-2b45-475a-86b2-e3a0047d99ae",
        "colab": {
          "base_uri": "https://localhost:8080/",
          "height": 34
        }
      },
      "source": [
        "start = time.time()\n",
        "mp = stumpy.stump(short_ts, 50, ignore_trivial=True)\n",
        "print(time.time()-start)"
      ],
      "execution_count": null,
      "outputs": [
        {
          "output_type": "stream",
          "text": [
            "0.7511868476867676\n"
          ],
          "name": "stdout"
        }
      ]
    },
    {
      "cell_type": "markdown",
      "metadata": {
        "id": "2de2muZeRuw0"
      },
      "source": [
        "There we go! Now, let's try the same analysis using the GPU by calling the `stumpy.gpu_stump` function:"
      ]
    },
    {
      "cell_type": "code",
      "metadata": {
        "id": "XXad4RltOQIf",
        "outputId": "d4b489b6-16e5-4d75-c40b-2d7f25a03e8a",
        "colab": {
          "base_uri": "https://localhost:8080/",
          "height": 34
        }
      },
      "source": [
        "start = time.time()\n",
        "mp = stumpy.gpu_stump(short_ts, 50, ignore_trivial=True)\n",
        "print(time.time()-start)"
      ],
      "execution_count": null,
      "outputs": [
        {
          "output_type": "stream",
          "text": [
            "1.2689449787139893\n"
          ],
          "name": "stdout"
        }
      ]
    },
    {
      "cell_type": "markdown",
      "metadata": {
        "id": "iVsFrwjBQ615"
      },
      "source": [
        "It appears that the GPU analysis takes around the same amount of time as the CPU does but, in fact, the majority of the time is spent sending the data from the host (CPU) to the (GPU) device. For a longer time series like `long_ts`, it will take around 2+ hours to analyze the data on a CPU (so we'll avoid that here) but it should take around 6 minutes on our GPU!"
      ]
    },
    {
      "cell_type": "code",
      "metadata": {
        "id": "LTwN_ksIPI0w",
        "outputId": "29286dca-9c9b-4eb1-b31b-7d3e46f0c130",
        "colab": {
          "base_uri": "https://localhost:8080/",
          "height": 34
        }
      },
      "source": [
        "start = time.time()\n",
        "mp = stumpy.gpu_stump(long_ts, 50, ignore_trivial=True)\n",
        "print(time.time()-start)"
      ],
      "execution_count": null,
      "outputs": [
        {
          "output_type": "stream",
          "text": [
            "314.91376781463623\n"
          ],
          "name": "stdout"
        }
      ]
    },
    {
      "cell_type": "markdown",
      "metadata": {
        "id": "6Mn7QfqjUYPo"
      },
      "source": [
        "And, Voila! Congratulations, you've just executed STUMPY on GPUs. For more information, please check out our [documentation](https://stumpy.readthedocs.io/en/latest/index.html) and feel free to [submit an issue](https://github.com/TDAmeritrade/stumpy/issues) on [Github](https://github.com/TDAmeritrade/stumpy) if you encounter any problems. "
      ]
    }
  ]
}